{
  "nbformat": 4,
  "nbformat_minor": 0,
  "metadata": {
    "colab": {
      "provenance": []
    },
    "kernelspec": {
      "name": "python3",
      "display_name": "Python 3"
    },
    "language_info": {
      "name": "python"
    }
  },
  "cells": [
    {
      "cell_type": "markdown",
      "source": [
        "#RESTFUL API AND FLASK"
      ],
      "metadata": {
        "id": "01KjtHpmeM3r"
      }
    },
    {
      "cell_type": "markdown",
      "source": [
        " 1.What is a RESTful API ?\n",
        " - A RESTful API applies Representational State Transfer (REST) principles over HTTP. It exposes resources (nouns) at URIs and uses standard HTTP methods (GET, POST, PUT/PATCH, DELETE) to perform actions. It embraces statelessness, uniform interface, cacheability, and layered architecture. Responses are typically JSON with clear status codes.\n",
        "\n",
        " 2.Explain the concept of API specification .\n",
        " - An API specification is a formal, machine- and human-readable contract that describes endpoints, methods, parameters, request/response schemas, status codes, authentication, and examples. Popular formats: OpenAPI/Swagger and AsyncAPI. Benefits: shared understanding, auto-generated docs/SDKs, validation, and test scaffolding.\n",
        "\n",
        " 3.What is Flask, and why is it popular for building APIs ?\n",
        " - Flask is a lightweight, modular Python web framework. It’s popular because it’s minimal (micro) yet extensible, easy to learn, has rich ecosystem extensions (Flask-SQLAlchemy, Flask-Login, Flask-RESTful), and is excellent for quick prototypes to production APIs.\n",
        "\n",
        " 4.What is routing in Flask ?\n",
        " - Routing maps URL paths to Python callables (view functions). Flask’s @app.route() (or blueprint @bp.route()) decorator registers a route; when a request hits a path with a matching method, Flask invokes that function and returns its response.\n",
        "\n",
        " 5.How do you create a simple Flask application ?\n",
        " - Minimal steps: install Flask, create app.py, define a route, run the dev server.\n",
        " from flask import Flask\n",
        "app = Flask(__name__)\n",
        "\n",
        "\n",
        "@app.route('/')\n",
        "def hello():\n",
        "return 'Hello, Flask!'\n",
        "\n",
        "\n",
        "if __name__ == '__main__':\n",
        "app.run(debug=True)\n",
        "\n",
        " 6.What are HTTP methods used in RESTful APIs ?\n",
        " - GET: Retrieve resource(s).\n",
        "\n",
        "- POST: Create a resource or perform a non-idempotent operation.\n",
        "\n",
        "- PUT: Replace a resource entirely (idempotent).\n",
        "\n",
        "- PATCH: Partially update a resource.\n",
        "\n",
        "- DELETE: Remove a resource (idempotent in effect).\n",
        "\n",
        "- HEAD/OPTIONS: Metadata and capability discovery.\n",
        "\n",
        " 7.What is the purpose of the @app.route() decorator in Flask?\n",
        " - It declares a URL rule and HTTP methods for a view function, registering it with the Flask app (or blueprint). E.g., @app.route('/items', methods=['GET']) binds GET /items to the function below it.\n",
        "\n",
        " 8.What is the difference between GET and POST HTTP methods?\n",
        " - GET: Safe, cacheable, idempotent; parameters in query string; used to fetch data; should not change server state.\n",
        "\n",
        "POST: Not idempotent; data in body; used to create resources or submit forms/actions that change state. Typically returns 201 Created with a Location header for new resources.\n",
        "\n",
        " 9.How do you handle errors in Flask APIs ?\n",
        " - Define error handlers and return JSON with proper status codes. Validate inputs, catch exceptions, and avoid leaking internals.\n",
        " from flask import Flask, jsonify\n",
        "app = Flask(__name__)\n",
        "\n",
        "\n",
        "@app.errorhandler(404)\n",
        "def not_found(e):\n",
        "return jsonify(error='Not Found'), 404\n",
        "\n",
        "\n",
        "@app.errorhandler(400)\n",
        "def bad_request(e):\n",
        "return jsonify(error='Bad Request'), 400\n",
        "\n",
        "\n",
        "@app.errorhandler(Exception)\n",
        "def internal(e):\n",
        "return jsonify(error='Internal Server Error'), 500\n",
        "\n",
        " 10.How do you connect Flask to a SQL database ?\n",
        " - Use Flask-SQLAlchemy (recommended) or vanilla SQLAlchemy. Configure the URI, initialize the extension, define models, and create tables.\n",
        " from flask import Flask\n",
        "from flask_sqlalchemy import SQLAlchemy\n",
        "\n",
        "\n",
        "app = Flask(__name__)\n",
        "app.config['SQLALCHEMY_DATABASE_URI'] = 'sqlite:///app.db'\n",
        "app.config['SQLALCHEMY_TRACK_MODIFICATIONS'] = False\n",
        "\n",
        "\n",
        "db = SQLAlchemy(app)\n",
        "\n",
        "\n",
        "class User(db.Model):\n",
        "id = db.Column(db.Integer, primary_key=True)\n",
        "email = db.Column(db.String(120), unique=True, nullable=False)\n",
        "\n",
        "\n",
        "with app.app_context():\n",
        "db.create_all()\n",
        "\n",
        " 11.What is the role of Flask-SQLAlchemy ?\n",
        " - It provides a Flask-friendly integration of SQLAlchemy: configuration, scoped sessions, model base, and helpful defaults (e.g., Model.query). It simplifies ORM usage and app context management.\n",
        "\n",
        " 12.What are Flask blueprints, and how are they useful ?\n",
        " - Blueprints are modular components that bundle routes, templates, and static files. They enable application factory patterns, code organization (e.g., api vs web), and reusable components across apps.\n",
        "\n",
        " 13.What is the purpose of Flask's request object ?\n",
        " - flask.request gives access to the current HTTP request: method, headers, query params (args), JSON/body (get_json, form), files, cookies, etc. It’s thread-local to each request.\n",
        "\n",
        " 14.How do you create a RESTful API endpoint using Flask ?\n",
        " - Define a route that returns JSON and status code.\n",
        " from flask import Flask, jsonify, request\n",
        "app = Flask(__name__)\n",
        "\n",
        "\n",
        "@app.route('/api/echo', methods=['POST'])\n",
        "def echo():\n",
        "data = request.get_json(force=True, silent=True) or {}\n",
        "return jsonify(received=data), 200\n",
        "\n",
        " 15.What is the purpose of Flask's jsonify() function ?\n",
        " - jsonify() safely serializes Python dicts/lists to JSON, sets the Content-Type: application/json, and handles UTF-8/ASCII issues. It’s preferred over json.dumps with manual Response creation.\n",
        "\n",
        " 16.Explain Flask’s url_for() function.\n",
        " - url_for(endpoint, **values) builds URLs by endpoint name (the function name), not hard-coded paths. It keeps links robust across refactors and supports dynamic segments and query strings, and can generate external URLs with _external=True.\n",
        "\n",
        " 17.How does Flask handle static files (CSS, JavaScript, etc.) ?\n",
        " - Flask serves files from the static/ folder at /static/... by default. In templates, reference with url_for('static', filename='styles.css'). You can also register static folders on blueprints.\n",
        "\n",
        " 18.What is an API specification, and how does it help in building a Flask API ?\n",
        " - An API spec (e.g., OpenAPI 3) guides design-first development: align stakeholders, auto-generate documentation (Swagger UI), server stubs/clients, contract-testing, and schema validation (via libraries like apispec, flask-smorest).\n",
        "\n",
        " 19.What are HTTP status codes, and why are they important in a Flask API ?\n",
        " - Status codes communicate the outcome of requests: 2xx success, 4xx client errors, 5xx server errors. Proper codes improve client behavior, caching, retries, and debuggability.\n",
        "\n",
        " 20.How do you handle POST requests in Flask ?\n",
        " - Accept body data (JSON/form), validate it, perform the operation, and return a JSON response with appropriate code.\n",
        " from flask import Flask, request, jsonify\n",
        "app = Flask(__name__)\n",
        "\n",
        "\n",
        "@app.route('/api/items', methods=['POST'])\n",
        "def create_item():\n",
        "payload = request.get_json() or {}\n",
        "name = payload.get('name')\n",
        "if not name:\n",
        "return jsonify(error='name is required'), 400\n",
        "# pretend to save\n",
        "item = {'id': 1, 'name': name}\n",
        "return jsonify(item), 201\n",
        "\n",
        " 21.How would you secure a Flask API ?\n",
        " - Transport: Use HTTPS.\n",
        "\n",
        "- AuthN/AuthZ: Tokens (Bearer/JWT), API keys, OAuth2; enforce scopes/roles.\n",
        "\n",
        "- Input validation & schema: e.g., Marshmallow/Pydantic; limit payload sizes.\n",
        "\n",
        "- CORS: Configure flask-cors if needed.\n",
        "\n",
        "- Rate limiting: Flask-Limiter.\n",
        "\n",
        "- Secrets management: environment variables; rotate keys.\n",
        "\n",
        "- Headers: Use secure headers (HSTS, CSP where applicable).\n",
        "\n",
        "- Avoid session-based state for pure APIs; prefer stateless tokens.\n",
        "\n",
        "22.What is the significance of the Flask-RESTful extension ?\n",
        "- Flask-RESTful adds class-based resources (Resource), request parsing, helpful abstractions for building REST APIs quickly. It organizes endpoints and improves maintainability.\n",
        " from flask import Flask\n",
        "from flask_restful import Api, Resource\n",
        "\n",
        "\n",
        "app = Flask(__name__)\n",
        "api = Api(app)\n",
        "\n",
        "\n",
        "class Ping(Resource):\n",
        "def get(self):\n",
        "return {'pong': True}, 200\n",
        "\n",
        "\n",
        "api.add_resource(Ping, '/api/ping')\n",
        "\n",
        " 23.What is the role of Flask’s session object ?\n",
        " - flask.session is a signed (optionally encrypted) cookie-based dict for per-client data across requests (e.g., CSRF tokens, user preferences). Requires SECRET_KEY. Avoid storing sensitive data; prefer server-side sessions if needed.\n"
      ],
      "metadata": {
        "id": "EYKObHkQeQ7g"
      }
    },
    {
      "cell_type": "markdown",
      "source": [
        "#PRACTICAL QUESTIONS"
      ],
      "metadata": {
        "id": "Eg1lQeFAhohV"
      }
    },
    {
      "cell_type": "markdown",
      "source": [
        "1.  How do you create a basic Flask application ?\n",
        "- from flask import Flask\n",
        "app = Flask(__name__)\n",
        "\n",
        "\n",
        "@app.route('/')\n",
        "def index():\n",
        "return 'Welcome to the Flask app!'\n",
        "\n",
        "\n",
        "if __name__ == '__main__':\n",
        "app.run(debug=True)\n"
      ],
      "metadata": {
        "id": "2WGkaHw3hwFF"
      }
    },
    {
      "cell_type": "code",
      "source": [
        "from flask import Flask\n",
        "app = Flask(__name__)\n",
        "\n",
        "\n",
        "@app.route('/')\n",
        "def index():\n",
        "return 'Welcome to the Flask app!'\n",
        "\n",
        "\n",
        "if __name__ == '__main__':\n",
        "app.run(debug=True)"
      ],
      "metadata": {
        "colab": {
          "base_uri": "https://localhost:8080/",
          "height": 110
        },
        "id": "0iuYM8sjhnuk",
        "outputId": "5d525442-bb1b-4be1-8442-b409dc7041cf"
      },
      "execution_count": 1,
      "outputs": [
        {
          "output_type": "error",
          "ename": "IndentationError",
          "evalue": "expected an indented block after function definition on line 6 (ipython-input-608163926.py, line 7)",
          "traceback": [
            "\u001b[0;36m  File \u001b[0;32m\"/tmp/ipython-input-608163926.py\"\u001b[0;36m, line \u001b[0;32m7\u001b[0m\n\u001b[0;31m    return 'Welcome to the Flask app!'\u001b[0m\n\u001b[0m    ^\u001b[0m\n\u001b[0;31mIndentationError\u001b[0m\u001b[0;31m:\u001b[0m expected an indented block after function definition on line 6\n"
          ]
        }
      ]
    },
    {
      "cell_type": "markdown",
      "source": [
        "2.  How do you serve static files like images or CSS in Flask ?\n",
        "- project/\n",
        "app.py\n",
        "static/\n",
        "styles.css\n",
        "logo.png\n",
        "templates/\n",
        "home.html\n",
        "<link rel=\"stylesheet\" href=\"{{ url_for('static', filename='styles.css') }}\">\n",
        "<img src=\"{{ url_for('static', filename='logo.png') }}\" alt=\"logo\">"
      ],
      "metadata": {
        "id": "ubANuQ6NhyX-"
      }
    },
    {
      "cell_type": "code",
      "source": [
        "project/\n",
        "app.py\n",
        "static/\n",
        "styles.css\n",
        "logo.png\n",
        "templates/\n",
        "home.html\n",
        "<link rel=\"stylesheet\" href=\"{{ url_for('static', filename='styles.css') }}\">\n",
        "<img src=\"{{ url_for('static', filename='logo.png') }}\" alt=\"logo\">"
      ],
      "metadata": {
        "colab": {
          "base_uri": "https://localhost:8080/",
          "height": 110
        },
        "id": "NvXiswDNh4V7",
        "outputId": "0ac2d790-7ed5-48bf-82cc-c32b756c8d84"
      },
      "execution_count": 2,
      "outputs": [
        {
          "output_type": "error",
          "ename": "SyntaxError",
          "evalue": "invalid syntax (ipython-input-3092884148.py, line 1)",
          "traceback": [
            "\u001b[0;36m  File \u001b[0;32m\"/tmp/ipython-input-3092884148.py\"\u001b[0;36m, line \u001b[0;32m1\u001b[0m\n\u001b[0;31m    project/\u001b[0m\n\u001b[0m            ^\u001b[0m\n\u001b[0;31mSyntaxError\u001b[0m\u001b[0;31m:\u001b[0m invalid syntax\n"
          ]
        }
      ]
    },
    {
      "cell_type": "markdown",
      "source": [
        "3. How do you define different routes with different HTTP methods in Flask ?\n",
        "- from flask import Flask, request, jsonify\n",
        "app = Flask(__name__)\n",
        "\n",
        "\n",
        "@app.route('/items', methods=['GET'])\n",
        "def list_items():\n",
        "return jsonify(items=[{'id': 1, 'name': 'Pen'}])\n",
        "\n",
        "\n",
        "@app.route('/items', methods=['POST'])\n",
        "def add_item():\n",
        "data = request.get_json() or {}\n",
        "return jsonify(id=2, **data), 201\n",
        "\n",
        "\n",
        "@app.route('/items/<int:item_id>', methods=['PUT', 'PATCH'])\n",
        "def update_item(item_id):\n",
        "data = request.get_json() or {}\n",
        "return jsonify(id=item_id, **data), 200\n",
        "\n",
        "\n",
        "@app.route('/items/<int:item_id>', methods=['DELETE'])\n",
        "def delete_item(item_id):\n",
        "return '', 204"
      ],
      "metadata": {
        "id": "FtkxT2yRh40r"
      }
    },
    {
      "cell_type": "code",
      "source": [
        "from flask import Flask, request, jsonify\n",
        "app = Flask(__name__)\n",
        "\n",
        "\n",
        "@app.route('/items', methods=['GET'])\n",
        "def list_items():\n",
        "return jsonify(items=[{'id': 1, 'name': 'Pen'}])\n",
        "\n",
        "\n",
        "@app.route('/items', methods=['POST'])\n",
        "def add_item():\n",
        "data = request.get_json() or {}\n",
        "return jsonify(id=2, **data), 201\n",
        "\n",
        "\n",
        "@app.route('/items/<int:item_id>', methods=['PUT', 'PATCH'])\n",
        "def update_item(item_id):\n",
        "data = request.get_json() or {}\n",
        "return jsonify(id=item_id, **data), 200\n",
        "\n",
        "\n",
        "@app.route('/items/<int:item_id>', methods=['DELETE'])\n",
        "def delete_item(item_id):\n",
        "return '', 204"
      ],
      "metadata": {
        "colab": {
          "base_uri": "https://localhost:8080/",
          "height": 110
        },
        "id": "lpMfTTYlh9wx",
        "outputId": "c426668f-47f8-4b3b-ffd9-c062f8cc2671"
      },
      "execution_count": 3,
      "outputs": [
        {
          "output_type": "error",
          "ename": "IndentationError",
          "evalue": "expected an indented block after function definition on line 6 (ipython-input-2840034627.py, line 7)",
          "traceback": [
            "\u001b[0;36m  File \u001b[0;32m\"/tmp/ipython-input-2840034627.py\"\u001b[0;36m, line \u001b[0;32m7\u001b[0m\n\u001b[0;31m    return jsonify(items=[{'id': 1, 'name': 'Pen'}])\u001b[0m\n\u001b[0m    ^\u001b[0m\n\u001b[0;31mIndentationError\u001b[0m\u001b[0;31m:\u001b[0m expected an indented block after function definition on line 6\n"
          ]
        }
      ]
    },
    {
      "cell_type": "markdown",
      "source": [
        "4.  How do you render HTML templates in Flask ?\n",
        "- from flask import Flask, render_template\n",
        "app = Flask(__name__)\n",
        "\n",
        "\n",
        "@app.route('/hello/<name>')\n",
        "def hello(name):\n",
        "return render_template('hello.html', name=name)\n",
        "<!doctype html>\n",
        "<title>Hello</title>\n",
        "<h1>Hello, {{ name|e }}!</h1>"
      ],
      "metadata": {
        "id": "zWNQL8oWh-HK"
      }
    },
    {
      "cell_type": "code",
      "source": [
        "from flask import Flask, render_template\n",
        "app = Flask(__name__)\n",
        "\n",
        "\n",
        "@app.route('/hello/<name>')\n",
        "def hello(name):\n",
        "return render_template('hello.html', name=name)\n",
        "<!doctype html>\n",
        "<title>Hello</title>\n",
        "<h1>Hello, {{ name|e }}!</h1>"
      ],
      "metadata": {
        "colab": {
          "base_uri": "https://localhost:8080/",
          "height": 110
        },
        "id": "4UwW2JfLiCpv",
        "outputId": "dcb19366-c1bc-4d17-d3c8-1da84d2b9bef"
      },
      "execution_count": 4,
      "outputs": [
        {
          "output_type": "error",
          "ename": "IndentationError",
          "evalue": "expected an indented block after function definition on line 6 (ipython-input-2830263343.py, line 7)",
          "traceback": [
            "\u001b[0;36m  File \u001b[0;32m\"/tmp/ipython-input-2830263343.py\"\u001b[0;36m, line \u001b[0;32m7\u001b[0m\n\u001b[0;31m    return render_template('hello.html', name=name)\u001b[0m\n\u001b[0m    ^\u001b[0m\n\u001b[0;31mIndentationError\u001b[0m\u001b[0;31m:\u001b[0m expected an indented block after function definition on line 6\n"
          ]
        }
      ]
    },
    {
      "cell_type": "markdown",
      "source": [
        "5.  How can you generate URLs for routes in Flask using url_for ?\n",
        "- from flask import Flask, url_for\n",
        "app = Flask(__name__)\n",
        "\n",
        "\n",
        "@app.route('/')\n",
        "def home():\n",
        "return f\"Go to {url_for('hello', name='Garima')}\"\n",
        "\n",
        "\n",
        "@app.route('/hello/<name>')\n",
        "def hello(name):\n",
        "return f\"Hello {name}\""
      ],
      "metadata": {
        "id": "v7gZwH6ziC9j"
      }
    },
    {
      "cell_type": "code",
      "source": [
        "from flask import Flask, url_for\n",
        "app = Flask(__name__)\n",
        "\n",
        "\n",
        "@app.route('/')\n",
        "def home():\n",
        "return f\"Go to {url_for('hello', name='Garima')}\"\n",
        "\n",
        "\n",
        "@app.route('/hello/<name>')\n",
        "def hello(name):\n",
        "return f\"Hello {name}\""
      ],
      "metadata": {
        "colab": {
          "base_uri": "https://localhost:8080/",
          "height": 110
        },
        "id": "cWp_4ES9iHXj",
        "outputId": "fafc7ef5-3b3a-462e-8335-b2d952fadae0"
      },
      "execution_count": 5,
      "outputs": [
        {
          "output_type": "error",
          "ename": "IndentationError",
          "evalue": "expected an indented block after function definition on line 6 (ipython-input-2316877696.py, line 7)",
          "traceback": [
            "\u001b[0;36m  File \u001b[0;32m\"/tmp/ipython-input-2316877696.py\"\u001b[0;36m, line \u001b[0;32m7\u001b[0m\n\u001b[0;31m    return f\"Go to {url_for('hello', name='Garima')}\"\u001b[0m\n\u001b[0m    ^\u001b[0m\n\u001b[0;31mIndentationError\u001b[0m\u001b[0;31m:\u001b[0m expected an indented block after function definition on line 6\n"
          ]
        }
      ]
    },
    {
      "cell_type": "markdown",
      "source": [
        "6.  How do you handle forms in Flask ?\n",
        "- from flask import Flask, request, render_template, redirect, url_for\n",
        "app = Flask(__name__)\n",
        "\n",
        "\n",
        "@app.route('/contact', methods=['GET', 'POST'])\n",
        "def contact():\n",
        "if request.method == 'POST':\n",
        "name = request.form['name']\n",
        "message = request.form['message']\n",
        "return redirect(url_for('thank_you', user=name))\n",
        "return render_template('contact.html')\n",
        "\n",
        "\n",
        "@app.route('/thanks/<user>')\n",
        "def thank_you(user):\n",
        "return f'Thank you {user}, we received your message!'"
      ],
      "metadata": {
        "id": "50-zP5KbiHr2"
      }
    },
    {
      "cell_type": "code",
      "source": [
        "from flask import Flask, request, render_template, redirect, url_for\n",
        "app = Flask(__name__)\n",
        "\n",
        "\n",
        "@app.route('/contact', methods=['GET', 'POST'])\n",
        "def contact():\n",
        "if request.method == 'POST':\n",
        "name = request.form['name']\n",
        "message = request.form['message']\n",
        "return redirect(url_for('thank_you', user=name))\n",
        "return render_template('contact.html')\n",
        "\n",
        "\n",
        "@app.route('/thanks/<user>')\n",
        "def thank_you(user):\n",
        "return f'Thank you {user}, we received your message!'"
      ],
      "metadata": {
        "colab": {
          "base_uri": "https://localhost:8080/",
          "height": 110
        },
        "id": "TatA5FTyiL2u",
        "outputId": "96439a28-5ccb-46a2-c728-17bf0d3ea474"
      },
      "execution_count": 6,
      "outputs": [
        {
          "output_type": "error",
          "ename": "IndentationError",
          "evalue": "expected an indented block after function definition on line 6 (ipython-input-974058961.py, line 7)",
          "traceback": [
            "\u001b[0;36m  File \u001b[0;32m\"/tmp/ipython-input-974058961.py\"\u001b[0;36m, line \u001b[0;32m7\u001b[0m\n\u001b[0;31m    if request.method == 'POST':\u001b[0m\n\u001b[0m    ^\u001b[0m\n\u001b[0;31mIndentationError\u001b[0m\u001b[0;31m:\u001b[0m expected an indented block after function definition on line 6\n"
          ]
        }
      ]
    },
    {
      "cell_type": "markdown",
      "source": [
        "7.  How can you validate form data in Flask ?\n",
        "- from flask import Flask, request, jsonify\n",
        "app = Flask(__name__)\n",
        "\n",
        "\n",
        "@app.route('/register', methods=['POST'])\n",
        "def register():\n",
        "data = request.form\n",
        "errors = {}\n",
        "if not data.get('username'):\n",
        "errors['username'] = 'Username is required'\n",
        "if not data.get('email') or '@' not in data['email']:\n",
        "errors['email'] = 'Valid email is required'\n",
        "if errors:\n",
        "return jsonify(errors=errors), 400\n",
        "return jsonify(message='Form is valid!'), 200"
      ],
      "metadata": {
        "id": "kQ1DlAFfiMMW"
      }
    },
    {
      "cell_type": "code",
      "source": [
        "from flask import Flask, request, jsonify\n",
        "app = Flask(__name__)\n",
        "\n",
        "\n",
        "@app.route('/register', methods=['POST'])\n",
        "def register():\n",
        "data = request.form\n",
        "errors = {}\n",
        "if not data.get('username'):\n",
        "errors['username'] = 'Username is required'\n",
        "if not data.get('email') or '@' not in data['email']:\n",
        "errors['email'] = 'Valid email is required'\n",
        "if errors:\n",
        "return jsonify(errors=errors), 400\n",
        "return jsonify(message='Form is valid!'), 200"
      ],
      "metadata": {
        "colab": {
          "base_uri": "https://localhost:8080/",
          "height": 110
        },
        "id": "fOr8RZrqiQ3y",
        "outputId": "154c7f79-270f-4518-e42f-f85ef4d05a8f"
      },
      "execution_count": 15,
      "outputs": [
        {
          "output_type": "error",
          "ename": "IndentationError",
          "evalue": "expected an indented block after function definition on line 6 (ipython-input-1364599434.py, line 7)",
          "traceback": [
            "\u001b[0;36m  File \u001b[0;32m\"/tmp/ipython-input-1364599434.py\"\u001b[0;36m, line \u001b[0;32m7\u001b[0m\n\u001b[0;31m    data = request.form\u001b[0m\n\u001b[0m    ^\u001b[0m\n\u001b[0;31mIndentationError\u001b[0m\u001b[0;31m:\u001b[0m expected an indented block after function definition on line 6\n"
          ]
        }
      ]
    },
    {
      "cell_type": "markdown",
      "source": [
        "8.  How do you manage sessions in Flask ?\n",
        "- from flask import Flask, session, redirect, url_for\n",
        "app = Flask(__name__)\n",
        "app.secret_key = 'secret-key'\n",
        "\n",
        "\n",
        "@app.route('/login/<user>')\n",
        "def login(user):\n",
        "session['username'] = user\n",
        "return f'Logged in as {user}'\n",
        "\n",
        "\n",
        "@app.route('/profile')\n",
        "def profile():\n",
        "return f\"Current user: {session.get('username', 'Guest')}\"\n",
        "\n",
        "\n",
        "@app.route('/logout')\n",
        "def logout():\n",
        "session.clear()\n",
        "return redirect(url_for('index'))\n",
        "\n",
        "\n",
        "@app.route('/')\n",
        "def index():\n",
        "return 'Home page'"
      ],
      "metadata": {
        "id": "fINJb2KpiRMW"
      }
    },
    {
      "cell_type": "code",
      "source": [
        "from flask import Flask, session, redirect, url_for\n",
        "app = Flask(__name__)\n",
        "app.secret_key = 'secret-key'\n",
        "\n",
        "\n",
        "@app.route('/login/<user>')\n",
        "def login(user):\n",
        "session['username'] = user\n",
        "return f'Logged in as {user}'\n",
        "\n",
        "\n",
        "@app.route('/profile')\n",
        "def profile():\n",
        "return f\"Current user: {session.get('username', 'Guest')}\"\n",
        "\n",
        "\n",
        "@app.route('/logout')\n",
        "def logout():\n",
        "session.clear()\n",
        "return redirect(url_for('index'))\n",
        "\n",
        "\n",
        "@app.route('/')\n",
        "def index():\n",
        "return 'Home page'"
      ],
      "metadata": {
        "colab": {
          "base_uri": "https://localhost:8080/",
          "height": 110
        },
        "id": "QTcmexfuiV3y",
        "outputId": "7dc87cbc-a007-47bc-bfa8-edf2b7880276"
      },
      "execution_count": 14,
      "outputs": [
        {
          "output_type": "error",
          "ename": "IndentationError",
          "evalue": "expected an indented block after function definition on line 7 (ipython-input-237807729.py, line 8)",
          "traceback": [
            "\u001b[0;36m  File \u001b[0;32m\"/tmp/ipython-input-237807729.py\"\u001b[0;36m, line \u001b[0;32m8\u001b[0m\n\u001b[0;31m    session['username'] = user\u001b[0m\n\u001b[0m    ^\u001b[0m\n\u001b[0;31mIndentationError\u001b[0m\u001b[0;31m:\u001b[0m expected an indented block after function definition on line 7\n"
          ]
        }
      ]
    },
    {
      "cell_type": "markdown",
      "source": [
        "9. How do you redirect to a different route in Flask ?\n",
        "- from flask import Flask, redirect, url_for\n",
        "app = Flask(__name__)\n",
        "\n",
        "\n",
        "@app.route('/old')\n",
        "def old():\n",
        "return redirect(url_for('new'))\n",
        "\n",
        "\n",
        "@app.route('/new')\n",
        "def new():\n",
        "return 'This is the new page!'"
      ],
      "metadata": {
        "id": "Q2e48M6QiWKR"
      }
    },
    {
      "cell_type": "code",
      "source": [
        "from flask import Flask, redirect, url_for\n",
        "app = Flask(__name__)\n",
        "\n",
        "\n",
        "@app.route('/old')\n",
        "def old():\n",
        "return redirect(url_for('new'))\n",
        "\n",
        "\n",
        "@app.route('/new')\n",
        "def new():\n",
        "return 'This is the new page!'"
      ],
      "metadata": {
        "colab": {
          "base_uri": "https://localhost:8080/",
          "height": 110
        },
        "id": "OYEQsj85iaSj",
        "outputId": "c248d2ac-68b2-437a-a16f-b206210c0627"
      },
      "execution_count": 7,
      "outputs": [
        {
          "output_type": "error",
          "ename": "IndentationError",
          "evalue": "expected an indented block after function definition on line 6 (ipython-input-3959709840.py, line 7)",
          "traceback": [
            "\u001b[0;36m  File \u001b[0;32m\"/tmp/ipython-input-3959709840.py\"\u001b[0;36m, line \u001b[0;32m7\u001b[0m\n\u001b[0;31m    return redirect(url_for('new'))\u001b[0m\n\u001b[0m    ^\u001b[0m\n\u001b[0;31mIndentationError\u001b[0m\u001b[0;31m:\u001b[0m expected an indented block after function definition on line 6\n"
          ]
        }
      ]
    },
    {
      "cell_type": "markdown",
      "source": [
        "10.  How do you handle errors in Flask (e.g., 404) ?\n",
        "- from flask import Flask, render_template\n",
        "app = Flask(__name__)\n",
        "\n",
        "\n",
        "@app.errorhandler(404)\n",
        "def not_found(e):\n",
        "return render_template('404.html'), 404\n",
        "\n",
        "\n",
        "@app.route('/')\n",
        "def home():\n",
        "return 'Home page'"
      ],
      "metadata": {
        "id": "R38RwVhCiarA"
      }
    },
    {
      "cell_type": "code",
      "source": [
        "from flask import Flask, render_template\n",
        "app = Flask(__name__)\n",
        "\n",
        "\n",
        "@app.errorhandler(404)\n",
        "def not_found(e):\n",
        "return render_template('404.html'), 404\n",
        "\n",
        "\n",
        "@app.route('/')\n",
        "def home():\n",
        "return 'Home page'"
      ],
      "metadata": {
        "colab": {
          "base_uri": "https://localhost:8080/",
          "height": 110
        },
        "id": "X8EOXOdtifAD",
        "outputId": "04bcfe8f-fb89-4832-c4f2-5a57104bd9d5"
      },
      "execution_count": 8,
      "outputs": [
        {
          "output_type": "error",
          "ename": "IndentationError",
          "evalue": "expected an indented block after function definition on line 6 (ipython-input-3514405033.py, line 7)",
          "traceback": [
            "\u001b[0;36m  File \u001b[0;32m\"/tmp/ipython-input-3514405033.py\"\u001b[0;36m, line \u001b[0;32m7\u001b[0m\n\u001b[0;31m    return render_template('404.html'), 404\u001b[0m\n\u001b[0m    ^\u001b[0m\n\u001b[0;31mIndentationError\u001b[0m\u001b[0;31m:\u001b[0m expected an indented block after function definition on line 6\n"
          ]
        }
      ]
    },
    {
      "cell_type": "markdown",
      "source": [
        "11.  How do you structure a Flask app using Blueprints ?\n",
        "- from flask import Flask\n",
        "from .api import api_bp\n",
        "\n",
        "\n",
        "def create_app():\n",
        "app = Flask(__name__)\n",
        "app.register_blueprint(api_bp, url_prefix='/api')\n",
        "return app\n",
        "\n",
        "\n",
        "# project/api/__init__.py\n",
        "from flask import Blueprint\n",
        "api_bp = Blueprint('api', __name__)\n",
        "from . import routes\n",
        "\n",
        "\n",
        "# project/api/routes.py\n",
        "from . import api_bp\n",
        "\n",
        "\n",
        "@api_bp.route('/ping')\n",
        "def ping():\n",
        "return {'pong': True}"
      ],
      "metadata": {
        "id": "o3mbFuc2ifWe"
      }
    },
    {
      "cell_type": "code",
      "source": [
        "from flask import Flask\n",
        "from .api import api_bp\n",
        "\n",
        "\n",
        "def create_app():\n",
        "app = Flask(__name__)\n",
        "app.register_blueprint(api_bp, url_prefix='/api')\n",
        "return app\n",
        "\n",
        "\n",
        "# project/api/__init__.py\n",
        "from flask import Blueprint\n",
        "api_bp = Blueprint('api', __name__)\n",
        "from . import routes\n",
        "\n",
        "\n",
        "# project/api/routes.py\n",
        "from . import api_bp\n",
        "\n",
        "\n",
        "@api_bp.route('/ping')\n",
        "def ping():\n",
        "return {'pong': True}"
      ],
      "metadata": {
        "colab": {
          "base_uri": "https://localhost:8080/",
          "height": 110
        },
        "id": "wHMMu6h_ikC9",
        "outputId": "45b7797b-f6fc-4ffb-8014-c42e117d5ea1"
      },
      "execution_count": 13,
      "outputs": [
        {
          "output_type": "error",
          "ename": "IndentationError",
          "evalue": "expected an indented block after function definition on line 5 (ipython-input-3537033.py, line 6)",
          "traceback": [
            "\u001b[0;36m  File \u001b[0;32m\"/tmp/ipython-input-3537033.py\"\u001b[0;36m, line \u001b[0;32m6\u001b[0m\n\u001b[0;31m    app = Flask(__name__)\u001b[0m\n\u001b[0m    ^\u001b[0m\n\u001b[0;31mIndentationError\u001b[0m\u001b[0;31m:\u001b[0m expected an indented block after function definition on line 5\n"
          ]
        }
      ]
    },
    {
      "cell_type": "markdown",
      "source": [
        "12.  How do you define a custom Jinja filter in Flask ?\n",
        "- from flask import Flask\n",
        "app = Flask(__name__)\n",
        "\n",
        "\n",
        "@app.template_filter('reverse')\n",
        "def reverse_filter(s):\n",
        "return s[::-1]\n",
        "\n",
        "\n",
        "@app.route('/show/<word>')\n",
        "def show(word):\n",
        "return f\"Reversed: {reverse_filter(word)}\""
      ],
      "metadata": {
        "id": "Jn9SejP2ikaI"
      }
    },
    {
      "cell_type": "code",
      "source": [
        "from flask import Flask\n",
        "app = Flask(__name__)\n",
        "\n",
        "\n",
        "@app.template_filter('reverse')\n",
        "def reverse_filter(s):\n",
        "return s[::-1]\n",
        "\n",
        "\n",
        "@app.route('/show/<word>')\n",
        "def show(word):\n",
        "return f\"Reversed: {reverse_filter(word)}\""
      ],
      "metadata": {
        "colab": {
          "base_uri": "https://localhost:8080/",
          "height": 110
        },
        "id": "YiosCrc8iqRE",
        "outputId": "dc0dc7da-f70e-470e-aa2e-42d61ca00b77"
      },
      "execution_count": 9,
      "outputs": [
        {
          "output_type": "error",
          "ename": "IndentationError",
          "evalue": "expected an indented block after function definition on line 6 (ipython-input-750072844.py, line 7)",
          "traceback": [
            "\u001b[0;36m  File \u001b[0;32m\"/tmp/ipython-input-750072844.py\"\u001b[0;36m, line \u001b[0;32m7\u001b[0m\n\u001b[0;31m    return s[::-1]\u001b[0m\n\u001b[0m    ^\u001b[0m\n\u001b[0;31mIndentationError\u001b[0m\u001b[0;31m:\u001b[0m expected an indented block after function definition on line 6\n"
          ]
        }
      ]
    },
    {
      "cell_type": "markdown",
      "source": [
        "13. How can you redirect with query parameters in Flask ?\n",
        "- from flask import Flask, redirect, url_for, request\n",
        "app = Flask(__name__)\n",
        "\n",
        "\n",
        "@app.route('/search')\n",
        "def search():\n",
        "q = request.args.get('q', '')\n",
        "return f'Searching for {q}'\n",
        "\n",
        "\n",
        "@app.route('/go')\n",
        "def go():\n",
        "return redirect(url_for('search', q='flask'))"
      ],
      "metadata": {
        "id": "PwJEtGzLiqqi"
      }
    },
    {
      "cell_type": "code",
      "source": [
        "from flask import Flask, redirect, url_for, request\n",
        "app = Flask(__name__)\n",
        "\n",
        "\n",
        "@app.route('/search')\n",
        "def search():\n",
        "q = request.args.get('q', '')\n",
        "return f'Searching for {q}'\n",
        "\n",
        "\n",
        "@app.route('/go')\n",
        "def go():\n",
        "return redirect(url_for('search', q='flask'))"
      ],
      "metadata": {
        "colab": {
          "base_uri": "https://localhost:8080/",
          "height": 110
        },
        "id": "mNUFz3wvitI3",
        "outputId": "3b52af30-63c5-4c4c-ed21-3c513a320f03"
      },
      "execution_count": 10,
      "outputs": [
        {
          "output_type": "error",
          "ename": "IndentationError",
          "evalue": "expected an indented block after function definition on line 6 (ipython-input-1314753169.py, line 7)",
          "traceback": [
            "\u001b[0;36m  File \u001b[0;32m\"/tmp/ipython-input-1314753169.py\"\u001b[0;36m, line \u001b[0;32m7\u001b[0m\n\u001b[0;31m    q = request.args.get('q', '')\u001b[0m\n\u001b[0m    ^\u001b[0m\n\u001b[0;31mIndentationError\u001b[0m\u001b[0;31m:\u001b[0m expected an indented block after function definition on line 6\n"
          ]
        }
      ]
    },
    {
      "cell_type": "markdown",
      "source": [
        "14.  How do you return JSON responses in Flask ?\n",
        "- from flask import Flask, jsonify\n",
        "app = Flask(__name__)\n",
        "\n",
        "\n",
        "@app.route('/status')\n",
        "def status():\n",
        "return jsonify(ok=True, version='1.0'), 200"
      ],
      "metadata": {
        "id": "HtJQkKI_itpd"
      }
    },
    {
      "cell_type": "code",
      "source": [
        "from flask import Flask, jsonify\n",
        "app = Flask(__name__)\n",
        "\n",
        "\n",
        "@app.route('/status')\n",
        "def status():\n",
        "return jsonify(ok=True, version='1.0'), 200"
      ],
      "metadata": {
        "colab": {
          "base_uri": "https://localhost:8080/",
          "height": 110
        },
        "id": "1r5Dvsd0ixo3",
        "outputId": "4f47d535-5d22-4b6e-e812-eb4d805403c5"
      },
      "execution_count": 11,
      "outputs": [
        {
          "output_type": "error",
          "ename": "IndentationError",
          "evalue": "expected an indented block after function definition on line 6 (ipython-input-3903377691.py, line 7)",
          "traceback": [
            "\u001b[0;36m  File \u001b[0;32m\"/tmp/ipython-input-3903377691.py\"\u001b[0;36m, line \u001b[0;32m7\u001b[0m\n\u001b[0;31m    return jsonify(ok=True, version='1.0'), 200\u001b[0m\n\u001b[0m    ^\u001b[0m\n\u001b[0;31mIndentationError\u001b[0m\u001b[0;31m:\u001b[0m expected an indented block after function definition on line 6\n"
          ]
        }
      ]
    },
    {
      "cell_type": "markdown",
      "source": [
        "15. How do you capture URL parameters in Flask?\n",
        "- from flask import Flask\n",
        "app = Flask(__name__)\n",
        "\n",
        "\n",
        "@app.route('/user/<int:user_id>/post/<slug>')\n",
        "def post(user_id, slug):\n",
        "return f'User: {user_id}, Post slug: {slug}'"
      ],
      "metadata": {
        "id": "59IY2eebiyBn"
      }
    },
    {
      "cell_type": "code",
      "source": [
        "from flask import Flask\n",
        "app = Flask(__name__)\n",
        "\n",
        "\n",
        "@app.route('/user/<int:user_id>/post/<slug>')\n",
        "def post(user_id, slug):\n",
        "return f'User: {user_id}, Post slug: {slug}'"
      ],
      "metadata": {
        "colab": {
          "base_uri": "https://localhost:8080/",
          "height": 110
        },
        "id": "BOZNH1wTi2Ni",
        "outputId": "8be8c9c4-4e9c-4e6d-d978-ff88a265f928"
      },
      "execution_count": 12,
      "outputs": [
        {
          "output_type": "error",
          "ename": "IndentationError",
          "evalue": "expected an indented block after function definition on line 6 (ipython-input-2018133873.py, line 7)",
          "traceback": [
            "\u001b[0;36m  File \u001b[0;32m\"/tmp/ipython-input-2018133873.py\"\u001b[0;36m, line \u001b[0;32m7\u001b[0m\n\u001b[0;31m    return f'User: {user_id}, Post slug: {slug}'\u001b[0m\n\u001b[0m    ^\u001b[0m\n\u001b[0;31mIndentationError\u001b[0m\u001b[0;31m:\u001b[0m expected an indented block after function definition on line 6\n"
          ]
        }
      ]
    }
  ]
}